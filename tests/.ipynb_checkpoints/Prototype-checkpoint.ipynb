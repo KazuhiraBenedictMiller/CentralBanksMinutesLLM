{
 "cells": [
  {
   "cell_type": "code",
   "execution_count": 1,
   "id": "70d2b4d9-6606-4614-a57a-2fe8cdfd552a",
   "metadata": {
    "tags": []
   },
   "outputs": [
    {
     "name": "stderr",
     "output_type": "stream",
     "text": [
      "/home/zero/.cache/pypoetry/virtualenvs/src-TO89gsno-py3.10/lib/python3.10/site-packages/pinecone/index.py:4: TqdmExperimentalWarning: Using `tqdm.autonotebook.tqdm` in notebook mode. Use `tqdm.tqdm` instead to force console mode (e.g. in jupyter console)\n",
      "  from tqdm.autonotebook import tqdm\n"
     ]
    },
    {
     "ename": "KeyError",
     "evalue": "'REPLICATE_API_TOKEN'",
     "output_type": "error",
     "traceback": [
      "\u001b[0;31m---------------------------------------------------------------------------\u001b[0m",
      "\u001b[0;31mKeyError\u001b[0m                                  Traceback (most recent call last)",
      "Cell \u001b[0;32mIn[1], line 16\u001b[0m\n\u001b[1;32m     13\u001b[0m \u001b[38;5;28;01mfrom\u001b[39;00m \u001b[38;5;21;01mlangchain\u001b[39;00m\u001b[38;5;21;01m.\u001b[39;00m\u001b[38;5;21;01membeddings\u001b[39;00m \u001b[38;5;28;01mimport\u001b[39;00m HuggingFaceEmbeddings\n\u001b[1;32m     14\u001b[0m \u001b[38;5;28;01mfrom\u001b[39;00m \u001b[38;5;21;01mlangchain\u001b[39;00m\u001b[38;5;21;01m.\u001b[39;00m\u001b[38;5;21;01mchains\u001b[39;00m \u001b[38;5;28;01mimport\u001b[39;00m ConversationalRetrievalChain\n\u001b[0;32m---> 16\u001b[0m REPLICATE_API_TOKEN \u001b[38;5;241m=\u001b[39m \u001b[43mos\u001b[49m\u001b[38;5;241;43m.\u001b[39;49m\u001b[43menviron\u001b[49m\u001b[43m[\u001b[49m\u001b[38;5;124;43m\"\u001b[39;49m\u001b[38;5;124;43mREPLICATE_API_TOKEN\u001b[39;49m\u001b[38;5;124;43m\"\u001b[39;49m\u001b[43m]\u001b[49m\n\u001b[1;32m     17\u001b[0m PINECONE_API_TOKEN \u001b[38;5;241m=\u001b[39m os\u001b[38;5;241m.\u001b[39menviron[\u001b[38;5;124m\"\u001b[39m\u001b[38;5;124mPINECONE_API_TOKEN\u001b[39m\u001b[38;5;124m\"\u001b[39m]\n\u001b[1;32m     19\u001b[0m pinecone\u001b[38;5;241m.\u001b[39minit(api_key \u001b[38;5;241m=\u001b[39m \u001b[38;5;124m\"\u001b[39m\u001b[38;5;124mf334a573-df65-461c-88ef-609c3ea3ca15\u001b[39m\u001b[38;5;124m\"\u001b[39m, environment \u001b[38;5;241m=\u001b[39m \u001b[38;5;124m\"\u001b[39m\u001b[38;5;124mgcp-starter\u001b[39m\u001b[38;5;124m\"\u001b[39m)\n",
      "File \u001b[0;32m/usr/local/lib/python3.10/os.py:680\u001b[0m, in \u001b[0;36m_Environ.__getitem__\u001b[0;34m(self, key)\u001b[0m\n\u001b[1;32m    677\u001b[0m     value \u001b[38;5;241m=\u001b[39m \u001b[38;5;28mself\u001b[39m\u001b[38;5;241m.\u001b[39m_data[\u001b[38;5;28mself\u001b[39m\u001b[38;5;241m.\u001b[39mencodekey(key)]\n\u001b[1;32m    678\u001b[0m \u001b[38;5;28;01mexcept\u001b[39;00m \u001b[38;5;167;01mKeyError\u001b[39;00m:\n\u001b[1;32m    679\u001b[0m     \u001b[38;5;66;03m# raise KeyError with the original key value\u001b[39;00m\n\u001b[0;32m--> 680\u001b[0m     \u001b[38;5;28;01mraise\u001b[39;00m \u001b[38;5;167;01mKeyError\u001b[39;00m(key) \u001b[38;5;28;01mfrom\u001b[39;00m \u001b[38;5;28;01mNone\u001b[39;00m\n\u001b[1;32m    681\u001b[0m \u001b[38;5;28;01mreturn\u001b[39;00m \u001b[38;5;28mself\u001b[39m\u001b[38;5;241m.\u001b[39mdecodevalue(value)\n",
      "\u001b[0;31mKeyError\u001b[0m: 'REPLICATE_API_TOKEN'"
     ]
    }
   ],
   "source": [
    "import os\n",
    "import sys\n",
    "sys.path.append(\"../source/\")\n",
    "sys.path.append(\"../\")\n",
    "\n",
    "#from dotenv import load_dotenv\n",
    "\n",
    "import pinecone\n",
    "from langchain.llms import Replicate\n",
    "from langchain.vectorstores import Pinecone\n",
    "from langchain.text_splitter import CharacterTextSplitter\n",
    "from langchain.document_loaders import PyPDFLoader\n",
    "from langchain.embeddings import HuggingFaceEmbeddings\n",
    "from langchain.chains import ConversationalRetrievalChain\n",
    "\n",
    "REPLICATE_API_TOKEN = os.environ[\"REPLICATE_API_TOKEN\"]\n",
    "PINECONE_API_TOKEN = os.environ[\"PINECONE_API_TOKEN\"]\n",
    "\n",
    "pinecone.init(api_key = PINECONE_API_TOKEN, environment = \"gcp-starter\")"
   ]
  },
  {
   "cell_type": "code",
   "execution_count": null,
   "id": "7b284c46-3a50-4ba9-967c-0a87c9e0c396",
   "metadata": {
    "tags": []
   },
   "outputs": [],
   "source": []
  },
  {
   "cell_type": "code",
   "execution_count": null,
   "id": "87afc815-7c6b-4da9-a932-68d177b5b249",
   "metadata": {},
   "outputs": [],
   "source": [
    "Loader = PyPDFLoader(\"./The Art of Company Valuation and Financial Statement Analysis.pdf\")\n",
    "Documents = Loader.load()"
   ]
  },
  {
   "cell_type": "code",
   "execution_count": null,
   "id": "bfbe2760-88d1-4698-b3d5-9c25bbb9578b",
   "metadata": {},
   "outputs": [],
   "source": [
    "TextSplitter = CharacterTextSplitter(chunk_size = 1000, chunk_overlap = 0)\n",
    "Texts = TextSplitter.split_documents(Documents)"
   ]
  },
  {
   "cell_type": "code",
   "execution_count": null,
   "id": "9fa9c033-0ae5-4d3a-9af4-9c696a15c6c3",
   "metadata": {
    "tags": []
   },
   "outputs": [],
   "source": [
    "Embeddings = HuggingFaceEmbeddings()"
   ]
  },
  {
   "cell_type": "code",
   "execution_count": null,
   "id": "e27b3743-d77c-476d-bfd5-570450178d69",
   "metadata": {},
   "outputs": [],
   "source": [
    "IndexName = \"centralbanksllm\"\n",
    "Index = pinecone.Index(IndexName)\n",
    "VectorDB = Pinecone.from_documents(Texts, Embeddings, index_name = IndexName)"
   ]
  },
  {
   "cell_type": "code",
   "execution_count": null,
   "id": "7b2ebd78-cf2a-41d3-baef-0bf0cd25c07d",
   "metadata": {},
   "outputs": [],
   "source": [
    "LLM = Replicate(model = \"a16z-infra/llama13b-v2-chat:df7690f1994d94e96ad9d568eac121aecf50684a0b0963b25a41cc40061269e5\", input={\"temperature\": 0.75, \"max_length\": 3000})"
   ]
  },
  {
   "cell_type": "code",
   "execution_count": null,
   "id": "f08c4962-5a5b-4990-8090-dcbcebdf9a40",
   "metadata": {},
   "outputs": [],
   "source": [
    "QA_Chain = ConversationalRetrievalChain.from_llm(LLM, VectorDB.as_retriever(search_kwargs = {'k': 2}), return_source_documents = True)"
   ]
  },
  {
   "cell_type": "code",
   "execution_count": null,
   "id": "c5e3c5ea-0604-4647-905a-1906d6e70ca8",
   "metadata": {},
   "outputs": [],
   "source": [
    "ChatHistory = []\n",
    "\n",
    "while True:\n",
    "    Query = input('Prompt: ')\n",
    "    \n",
    "    if Query.lower() in [\"exit\", \"quit\", \"q\"]:\n",
    "        print('Exiting')\n",
    "        sys.exit()\n",
    "        \n",
    "    Result = QA_Chain({'question': Query, 'chat_history': ChatHistory})\n",
    "    print('Answer: ' + Result['answer'] + '\\n')\n",
    "    ChatHistory.append((Query, Result['answer']))"
   ]
  },
  {
   "cell_type": "code",
   "execution_count": null,
   "id": "e8d0890b-96b9-4526-bce0-8331718677fd",
   "metadata": {},
   "outputs": [],
   "source": []
  }
 ],
 "metadata": {
  "kernelspec": {
   "display_name": "CentralBanksLLM",
   "language": "python",
   "name": "centralbanksllm"
  },
  "language_info": {
   "codemirror_mode": {
    "name": "ipython",
    "version": 3
   },
   "file_extension": ".py",
   "mimetype": "text/x-python",
   "name": "python",
   "nbconvert_exporter": "python",
   "pygments_lexer": "ipython3",
   "version": "3.10.13"
  }
 },
 "nbformat": 4,
 "nbformat_minor": 5
}
