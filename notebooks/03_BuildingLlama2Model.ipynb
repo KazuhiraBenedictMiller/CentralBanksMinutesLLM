{
 "cells": [
  {
   "cell_type": "markdown",
   "id": "bdd5f445-f45a-4b13-8e02-7e2352d4c0cd",
   "metadata": {},
   "source": [
    "# Importing Libraries"
   ]
  },
  {
   "cell_type": "code",
   "execution_count": 1,
   "id": "708b8be2-c530-467a-bd17-9e2bfb19700d",
   "metadata": {
    "tags": []
   },
   "outputs": [
    {
     "name": "stderr",
     "output_type": "stream",
     "text": [
      "/home/zero/.cache/pypoetry/virtualenvs/src-TO89gsno-py3.10/lib/python3.10/site-packages/pinecone/index.py:4: TqdmExperimentalWarning: Using `tqdm.autonotebook.tqdm` in notebook mode. Use `tqdm.tqdm` instead to force console mode (e.g. in jupyter console)\n",
      "  from tqdm.autonotebook import tqdm\n"
     ]
    }
   ],
   "source": [
    "import os\n",
    "import shutil\n",
    "import sys\n",
    "sys.path.append(\"../source/\")\n",
    "sys.path.append(\"../\")\n",
    "\n",
    "import paths\n",
    "import config\n",
    "import webscraper\n",
    "\n",
    "import pinecone\n",
    "from langchain.llms import Replicate\n",
    "from langchain.vectorstores import Pinecone\n",
    "from langchain.embeddings import HuggingFaceEmbeddings\n",
    "from langchain.chains import ConversationalRetrievalChain"
   ]
  },
  {
   "cell_type": "markdown",
   "id": "ced27969-001b-4f85-b45c-7156e6f2701e",
   "metadata": {},
   "source": [
    "# Retrieving Index Data from VectorStore"
   ]
  },
  {
   "cell_type": "code",
   "execution_count": 2,
   "id": "36709c7b-74ec-41ee-8e48-f98adf9335fb",
   "metadata": {
    "tags": []
   },
   "outputs": [],
   "source": [
    "#Connecting to the VectorStore\n",
    "\n",
    "pinecone.init(api_key = config.PINECONE_API_TOKEN, environment = config.PINECONE_ENVIRONMENT)"
   ]
  },
  {
   "cell_type": "code",
   "execution_count": 4,
   "id": "ea27f283-9be7-42fc-85b5-5c849a678747",
   "metadata": {
    "tags": []
   },
   "outputs": [],
   "source": [
    "Embeddings = HuggingFaceEmbeddings()\n",
    "\n",
    "VectorDB = Pinecone.from_existing_index(config.PINECONE_INDEX_NAME, Embeddings)"
   ]
  },
  {
   "cell_type": "markdown",
   "id": "7d2eb0ac-eb2e-4bd3-b441-6f3bfc2d66f1",
   "metadata": {},
   "source": [
    "# Creating the Model"
   ]
  },
  {
   "cell_type": "code",
   "execution_count": 5,
   "id": "81739348-ab53-416e-b27c-4132e73f6955",
   "metadata": {
    "tags": []
   },
   "outputs": [
    {
     "name": "stderr",
     "output_type": "stream",
     "text": [
      "Init param `input` is deprecated, please use `model_kwargs` instead.\n"
     ]
    }
   ],
   "source": [
    "LLM = Replicate(model = \"a16z-infra/llama13b-v2-chat:df7690f1994d94e96ad9d568eac121aecf50684a0b0963b25a41cc40061269e5\", input = {\"temperature\": 0.75, \"max_length\": 3000})"
   ]
  },
  {
   "cell_type": "code",
   "execution_count": 6,
   "id": "9616ca8c-1212-40a5-804c-ec9d2b43f358",
   "metadata": {
    "tags": []
   },
   "outputs": [],
   "source": [
    "QA_Chain = ConversationalRetrievalChain.from_llm(LLM, VectorDB.as_retriever(search_kwargs = {'k': 2}), return_source_documents = True)"
   ]
  },
  {
   "cell_type": "markdown",
   "id": "1f676cc9-078c-47f9-ab49-e098d6c89653",
   "metadata": {},
   "source": [
    "# Chat App"
   ]
  },
  {
   "cell_type": "code",
   "execution_count": 7,
   "id": "f8f9a0e5-35e8-46ee-a7c3-45c0e70185ae",
   "metadata": {
    "tags": []
   },
   "outputs": [
    {
     "name": "stdin",
     "output_type": "stream",
     "text": [
      "Prompt:  How have been so far the Economic Conditions in Australia?ù\n"
     ]
    },
    {
     "name": "stdout",
     "output_type": "stream",
     "text": [
      "Answer: Based on the given context, the economic conditions in Australia have been mixed. On one hand, there has been a post-pandemic recovery in spending, and a large pipeline of projects has supported business investment. However, there have also been declines in net wealth, driven by lower housing prices, and a slowdown in housing investment. Additionally, there are signs of a moderation in spending on discretionary goods, and retail trade volumes have declined. The outlook for domestic growth and inflation remains highly uncertain, with plausible scenarios for both stronger and weaker outcomes.\n",
      "\n"
     ]
    },
    {
     "name": "stdin",
     "output_type": "stream",
     "text": [
      "Prompt:  What are the longer term goals of the Reserve Bank of Australia?\n"
     ]
    },
    {
     "name": "stdout",
     "output_type": "stream",
     "text": [
      "Answer: The longer-term goals of the Reserve Bank of Australia are to maintain low and stable inflation, support full employment, and promote financial stability. These goals are outlined in the Reserve Bank's Charter, which sets out the Bank's objectives and the principles that guide its decision-making. To achieve these goals, the Reserve Bank uses a range of tools, including monetary policy (such as setting interest rates), prudential regulation (to ensure the stability of the financial system), and other functions such as currency management and banknote issuance. The Reserve Bank also works closely with other regulatory agencies and the Australian government to promote the stability of the financial system and the economy as a whole.\n",
      "\n"
     ]
    },
    {
     "name": "stdin",
     "output_type": "stream",
     "text": [
      "Prompt:  What may be Weaker outcomes for inflation?\n"
     ]
    },
    {
     "name": "stdout",
     "output_type": "stream",
     "text": [
      "Answer: The correct answer is b) weaker outcomes for inflation.\n",
      "\n",
      "Explanation:\n",
      "\n",
      "The correct answer is b) weaker outcomes for inflation. The passage states that \"members noted the decline in market expectations for the peak in the cash rate since the previous meeting. At the same time, longer term yields in advanced economies had risen, suggesting investors had become more confident that inflation could return to target without a sharp slowing in the economy.\" This suggests that market expectations for inflation have decreased, which could result in weaker outcomes for inflation.\n",
      "\n"
     ]
    },
    {
     "name": "stdin",
     "output_type": "stream",
     "text": [
      "Prompt:  How well are performing Australia's Economic Partners?\n"
     ]
    },
    {
     "name": "stdout",
     "output_type": "stream",
     "text": [
      "Answer: According to the context, the major advanced economies' growth in consumption has slowed over 2022, and global growth has slowed during 2022, in part reflecting the end of the initial bounce-back from the pandemic. Additionally, the synchronized global tightening of monetary policy, high energy prices, and cost-of-living pressures have weighed on demand in the latter part of the year and will continue to do so over the period ahead.\n",
      "\n",
      "Please note that the above answer is based on the information provided in the context and may not be comprehensive or up-to-date. For more detailed and accurate information on Australia's economic partners' performance, it is recommended to consult with more recent and reliable sources.\n",
      "\n"
     ]
    },
    {
     "ename": "KeyboardInterrupt",
     "evalue": "Interrupted by user",
     "output_type": "error",
     "traceback": [
      "\u001b[0;31m---------------------------------------------------------------------------\u001b[0m",
      "\u001b[0;31mKeyboardInterrupt\u001b[0m                         Traceback (most recent call last)",
      "Cell \u001b[0;32mIn[7], line 4\u001b[0m\n\u001b[1;32m      1\u001b[0m ChatHistory \u001b[38;5;241m=\u001b[39m []\n\u001b[1;32m      3\u001b[0m \u001b[38;5;28;01mwhile\u001b[39;00m \u001b[38;5;28;01mTrue\u001b[39;00m:\n\u001b[0;32m----> 4\u001b[0m     Query \u001b[38;5;241m=\u001b[39m \u001b[38;5;28;43minput\u001b[39;49m\u001b[43m(\u001b[49m\u001b[38;5;124;43m'\u001b[39;49m\u001b[38;5;124;43mPrompt: \u001b[39;49m\u001b[38;5;124;43m'\u001b[39;49m\u001b[43m)\u001b[49m\n\u001b[1;32m      6\u001b[0m     \u001b[38;5;28;01mif\u001b[39;00m Query\u001b[38;5;241m.\u001b[39mlower() \u001b[38;5;129;01min\u001b[39;00m [\u001b[38;5;124m\"\u001b[39m\u001b[38;5;124mexit\u001b[39m\u001b[38;5;124m\"\u001b[39m, \u001b[38;5;124m\"\u001b[39m\u001b[38;5;124mquit\u001b[39m\u001b[38;5;124m\"\u001b[39m, \u001b[38;5;124m\"\u001b[39m\u001b[38;5;124mq\u001b[39m\u001b[38;5;124m\"\u001b[39m]:\n\u001b[1;32m      7\u001b[0m         \u001b[38;5;28mprint\u001b[39m(\u001b[38;5;124m'\u001b[39m\u001b[38;5;124mExiting\u001b[39m\u001b[38;5;124m'\u001b[39m)\n",
      "File \u001b[0;32m~/.cache/pypoetry/virtualenvs/src-TO89gsno-py3.10/lib/python3.10/site-packages/ipykernel/kernelbase.py:1202\u001b[0m, in \u001b[0;36mKernel.raw_input\u001b[0;34m(self, prompt)\u001b[0m\n\u001b[1;32m   1200\u001b[0m     msg \u001b[38;5;241m=\u001b[39m \u001b[38;5;124m\"\u001b[39m\u001b[38;5;124mraw_input was called, but this frontend does not support input requests.\u001b[39m\u001b[38;5;124m\"\u001b[39m\n\u001b[1;32m   1201\u001b[0m     \u001b[38;5;28;01mraise\u001b[39;00m StdinNotImplementedError(msg)\n\u001b[0;32m-> 1202\u001b[0m \u001b[38;5;28;01mreturn\u001b[39;00m \u001b[38;5;28;43mself\u001b[39;49m\u001b[38;5;241;43m.\u001b[39;49m\u001b[43m_input_request\u001b[49m\u001b[43m(\u001b[49m\n\u001b[1;32m   1203\u001b[0m \u001b[43m    \u001b[49m\u001b[38;5;28;43mstr\u001b[39;49m\u001b[43m(\u001b[49m\u001b[43mprompt\u001b[49m\u001b[43m)\u001b[49m\u001b[43m,\u001b[49m\n\u001b[1;32m   1204\u001b[0m \u001b[43m    \u001b[49m\u001b[38;5;28;43mself\u001b[39;49m\u001b[38;5;241;43m.\u001b[39;49m\u001b[43m_parent_ident\u001b[49m\u001b[43m[\u001b[49m\u001b[38;5;124;43m\"\u001b[39;49m\u001b[38;5;124;43mshell\u001b[39;49m\u001b[38;5;124;43m\"\u001b[39;49m\u001b[43m]\u001b[49m\u001b[43m,\u001b[49m\n\u001b[1;32m   1205\u001b[0m \u001b[43m    \u001b[49m\u001b[38;5;28;43mself\u001b[39;49m\u001b[38;5;241;43m.\u001b[39;49m\u001b[43mget_parent\u001b[49m\u001b[43m(\u001b[49m\u001b[38;5;124;43m\"\u001b[39;49m\u001b[38;5;124;43mshell\u001b[39;49m\u001b[38;5;124;43m\"\u001b[39;49m\u001b[43m)\u001b[49m\u001b[43m,\u001b[49m\n\u001b[1;32m   1206\u001b[0m \u001b[43m    \u001b[49m\u001b[43mpassword\u001b[49m\u001b[38;5;241;43m=\u001b[39;49m\u001b[38;5;28;43;01mFalse\u001b[39;49;00m\u001b[43m,\u001b[49m\n\u001b[1;32m   1207\u001b[0m \u001b[43m\u001b[49m\u001b[43m)\u001b[49m\n",
      "File \u001b[0;32m~/.cache/pypoetry/virtualenvs/src-TO89gsno-py3.10/lib/python3.10/site-packages/ipykernel/kernelbase.py:1245\u001b[0m, in \u001b[0;36mKernel._input_request\u001b[0;34m(self, prompt, ident, parent, password)\u001b[0m\n\u001b[1;32m   1242\u001b[0m \u001b[38;5;28;01mexcept\u001b[39;00m \u001b[38;5;167;01mKeyboardInterrupt\u001b[39;00m:\n\u001b[1;32m   1243\u001b[0m     \u001b[38;5;66;03m# re-raise KeyboardInterrupt, to truncate traceback\u001b[39;00m\n\u001b[1;32m   1244\u001b[0m     msg \u001b[38;5;241m=\u001b[39m \u001b[38;5;124m\"\u001b[39m\u001b[38;5;124mInterrupted by user\u001b[39m\u001b[38;5;124m\"\u001b[39m\n\u001b[0;32m-> 1245\u001b[0m     \u001b[38;5;28;01mraise\u001b[39;00m \u001b[38;5;167;01mKeyboardInterrupt\u001b[39;00m(msg) \u001b[38;5;28;01mfrom\u001b[39;00m \u001b[38;5;28;01mNone\u001b[39;00m\n\u001b[1;32m   1246\u001b[0m \u001b[38;5;28;01mexcept\u001b[39;00m \u001b[38;5;167;01mException\u001b[39;00m:\n\u001b[1;32m   1247\u001b[0m     \u001b[38;5;28mself\u001b[39m\u001b[38;5;241m.\u001b[39mlog\u001b[38;5;241m.\u001b[39mwarning(\u001b[38;5;124m\"\u001b[39m\u001b[38;5;124mInvalid Message:\u001b[39m\u001b[38;5;124m\"\u001b[39m, exc_info\u001b[38;5;241m=\u001b[39m\u001b[38;5;28;01mTrue\u001b[39;00m)\n",
      "\u001b[0;31mKeyboardInterrupt\u001b[0m: Interrupted by user"
     ]
    }
   ],
   "source": [
    "ChatHistory = []\n",
    "\n",
    "while True:\n",
    "    Query = input('Prompt: ')\n",
    "    \n",
    "    if Query.lower() in [\"exit\", \"quit\", \"q\"]:\n",
    "        print('Exiting')\n",
    "        sys.exit()\n",
    "        \n",
    "    Result = QA_Chain({'question': Query, 'chat_history': ChatHistory})\n",
    "    print('Answer: ' + Result['answer'] + '\\n')\n",
    "    ChatHistory.append((Query, Result['answer']))"
   ]
  }
 ],
 "metadata": {
  "kernelspec": {
   "display_name": "CentralBanksLLMPoetryKernel",
   "language": "python",
   "name": "centralbanksllmpoetrykernel"
  },
  "language_info": {
   "codemirror_mode": {
    "name": "ipython",
    "version": 3
   },
   "file_extension": ".py",
   "mimetype": "text/x-python",
   "name": "python",
   "nbconvert_exporter": "python",
   "pygments_lexer": "ipython3",
   "version": "3.10.13"
  }
 },
 "nbformat": 4,
 "nbformat_minor": 5
}
