{
 "cells": [
  {
   "cell_type": "markdown",
   "id": "ff612f36-feb8-4a55-9239-3b860ace77a3",
   "metadata": {},
   "source": [
    "# Importing Libraries"
   ]
  },
  {
   "cell_type": "code",
   "execution_count": 1,
   "id": "22cfa31d-cc05-4be3-a7d0-f97a0b3975d6",
   "metadata": {
    "tags": []
   },
   "outputs": [],
   "source": [
    "%load_ext autoreload\n",
    "%autoreload 2"
   ]
  },
  {
   "cell_type": "code",
   "execution_count": 20,
   "id": "cc692fb8-2fb2-47a0-91da-f2c8d7d15ee7",
   "metadata": {
    "tags": []
   },
   "outputs": [],
   "source": [
    "import os\n",
    "import shutil\n",
    "import sys\n",
    "sys.path.append(\"../source/\")\n",
    "sys.path.append(\"../\")\n",
    "\n",
    "import paths\n",
    "import webscraper\n",
    "\n",
    "from dotenv import load_dotenv\n",
    "\n",
    "load_dotenv(\"../.env\")\n",
    "\n",
    "import pinecone\n",
    "from langchain.llms import Replicate\n",
    "from langchain.vectorstores import Pinecone\n",
    "from langchain.text_splitter import CharacterTextSplitter\n",
    "from langchain.document_loaders import PyPDFLoader\n",
    "from langchain.document_loaders import DirectoryLoader\n",
    "from langchain.embeddings import HuggingFaceEmbeddings\n",
    "from langchain.chains import ConversationalRetrievalChain\n",
    "\n",
    "REPLICATE_API_TOKEN = os.environ[\"REPLICATE_API_TOKEN\"]\n",
    "PINECONE_API_TOKEN = os.environ[\"PINECONE_API_TOKEN\"]\n",
    "\n",
    "pinecone.init(api_key = PINECONE_API_TOKEN, environment = \"gcp-starter\")"
   ]
  },
  {
   "cell_type": "markdown",
   "id": "a9915517-d14c-42b7-8ec9-f6bae3a2b852",
   "metadata": {},
   "source": [
    "# Populating the Transformed Data Directory with pdf files"
   ]
  },
  {
   "cell_type": "code",
   "execution_count": 8,
   "id": "5addd443-c29a-4453-b62f-2ad0298325e0",
   "metadata": {
    "tags": []
   },
   "outputs": [],
   "source": [
    "webscraper.ScrapeData(StartYear = 2023, EndYear = 2023)"
   ]
  },
  {
   "cell_type": "markdown",
   "id": "948689b7-e1f6-45cb-815d-f52acd382853",
   "metadata": {},
   "source": [
    "# Populating the Vector Database"
   ]
  },
  {
   "cell_type": "code",
   "execution_count": 21,
   "id": "34cd2fe6-61c3-4b3f-99fa-b94b0cc120a6",
   "metadata": {
    "tags": []
   },
   "outputs": [],
   "source": [
    "#Fetching all .pdf Files in the data/transformed/ Directory\n",
    "#Then for each one of them we Load, Split and Generate Embeddings\n",
    "#Ultimately we Push the Embeddings Generated to the Vector Database (aka VectorStore)\n",
    "\n",
    "for x in os.listdir(paths.TRANSFORMED_DATA_DIR):\n",
    "    if x.endswith(\".pdf\"):\n",
    "        FilePath = str(paths.TRANSFORMED_DATA_DIR / x)\n",
    "        Loader = PyPDFLoader(FilePath)\n",
    "        Document = Loader.load()\n",
    "        \n",
    "        TextSplitter = CharacterTextSplitter(chunk_size = 1000, chunk_overlap = 0)\n",
    "        Text = TextSplitter.split_documents(Document)\n",
    "        Embeddings = HuggingFaceEmbeddings() #(model_name = \"sentence-transformers/all-MiniLM-L6-v2\")\n",
    "        \n",
    "        #Loading Documents into the Vector Database\n",
    "\n",
    "        IndexName = \"centralbanksllm\"\n",
    "        Index = pinecone.Index(IndexName)\n",
    "        VectorDB = Pinecone.from_documents(Text, Embeddings, index_name = IndexName)\n",
    "        \n",
    "        #After Loading the Documents' Embeddings to the Vector Store, the File is Moved to a Storage Directory\n",
    "        \n",
    "        shutil.move(FilePath, str(paths.STORAGE_DATA_DIR / x))"
   ]
  },
  {
   "cell_type": "code",
   "execution_count": 22,
   "id": "c758c3a8-c9ec-4b4b-9f72-388f81186c7a",
   "metadata": {},
   "outputs": [
    {
     "name": "stderr",
     "output_type": "stream",
     "text": [
      "Init param `input` is deprecated, please use `model_kwargs` instead.\n"
     ]
    }
   ],
   "source": [
    "LLM = Replicate(model = \"a16z-infra/llama13b-v2-chat:df7690f1994d94e96ad9d568eac121aecf50684a0b0963b25a41cc40061269e5\", input = {\"temperature\": 0.75, \"max_length\": 3000})"
   ]
  },
  {
   "cell_type": "code",
   "execution_count": 23,
   "id": "02e1b0c2-0596-4938-af93-eb337dd54b4c",
   "metadata": {},
   "outputs": [],
   "source": [
    "QA_Chain = ConversationalRetrievalChain.from_llm(LLM, VectorDB.as_retriever(search_kwargs = {'k': 2}), return_source_documents = True)"
   ]
  },
  {
   "cell_type": "code",
   "execution_count": 24,
   "id": "c754cae7-fa1c-4863-9a82-0f2a6b34ca75",
   "metadata": {},
   "outputs": [
    {
     "name": "stdin",
     "output_type": "stream",
     "text": [
      "Prompt:  how did the Monetary Policy Shift throughout the course of the year 2023?\n"
     ]
    },
    {
     "name": "stdout",
     "output_type": "stream",
     "text": [
      "Answer: According to the provided minutes, the Monetary Policy Shift in 2023 was characterized by a focus on bringing inflation back down to target rates. In the first half of the year, members noted that core inflation remained well above target rates and was proving to be persistent, despite labor market conditions gradually easing. In response, the Reserve Bank took steps to tighten monetary policy, including increasing interest rates. However, as the year progressed, members noted that inflation had declined further than expected in some cases, and that wages growth remained high relative to productivity growth. As a result, the Reserve Bank began to shift its focus towards slower growth in wages to bring inflation back down to target rates. By the end of the year, members noted that while inflation remained above target rates, it had declined further than expected in some cases, and that there were some indications that households real disposable incomes and wealth were starting to increase.\n",
      "\n"
     ]
    },
    {
     "name": "stdin",
     "output_type": "stream",
     "text": [
      "Prompt:  quit\n"
     ]
    },
    {
     "name": "stdout",
     "output_type": "stream",
     "text": [
      "Exiting\n"
     ]
    },
    {
     "ename": "SystemExit",
     "evalue": "",
     "output_type": "error",
     "traceback": [
      "An exception has occurred, use %tb to see the full traceback.\n",
      "\u001b[0;31mSystemExit\u001b[0m\n"
     ]
    },
    {
     "name": "stderr",
     "output_type": "stream",
     "text": [
      "/home/zero/.cache/pypoetry/virtualenvs/src-TO89gsno-py3.10/lib/python3.10/site-packages/IPython/core/interactiveshell.py:3534: UserWarning: To exit: use 'exit', 'quit', or Ctrl-D.\n",
      "  warn(\"To exit: use 'exit', 'quit', or Ctrl-D.\", stacklevel=1)\n"
     ]
    }
   ],
   "source": [
    "ChatHistory = []\n",
    "\n",
    "while True:\n",
    "    Query = input('Prompt: ')\n",
    "    \n",
    "    if Query.lower() in [\"exit\", \"quit\", \"q\"]:\n",
    "        print('Exiting')\n",
    "        sys.exit()\n",
    "        \n",
    "    Result = QA_Chain({'question': Query, 'chat_history': ChatHistory})\n",
    "    print('Answer: ' + Result['answer'] + '\\n')\n",
    "    ChatHistory.append((Query, Result['answer']))"
   ]
  }
 ],
 "metadata": {
  "kernelspec": {
   "display_name": "Python 3 (ipykernel)",
   "language": "python",
   "name": "python3"
  },
  "language_info": {
   "codemirror_mode": {
    "name": "ipython",
    "version": 3
   },
   "file_extension": ".py",
   "mimetype": "text/x-python",
   "name": "python",
   "nbconvert_exporter": "python",
   "pygments_lexer": "ipython3",
   "version": "3.11.3"
  }
 },
 "nbformat": 4,
 "nbformat_minor": 5
}
