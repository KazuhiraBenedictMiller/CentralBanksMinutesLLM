{
 "cells": [
  {
   "cell_type": "markdown",
   "id": "686f7d69-03af-4379-81a8-c5c77f65e774",
   "metadata": {},
   "source": [
    "# Importing Libraries"
   ]
  },
  {
   "cell_type": "code",
   "execution_count": 1,
   "id": "c9027018-db85-43aa-b3b0-2fb83ccbc8bf",
   "metadata": {
    "tags": []
   },
   "outputs": [],
   "source": [
    "%load_ext autoreload\n",
    "%autoreload 2"
   ]
  },
  {
   "cell_type": "code",
   "execution_count": 2,
   "id": "c45bef59-cb22-4633-9421-f0f30007c31f",
   "metadata": {
    "tags": []
   },
   "outputs": [],
   "source": [
    "from bs4 import BeautifulSoup\n",
    "import requests\n",
    "\n",
    "import os\n",
    "import sys\n",
    "sys.path.append(\"../source/\")\n",
    "sys.path.append(\"../\")\n",
    "\n",
    "import paths"
   ]
  },
  {
   "cell_type": "markdown",
   "id": "47817b8b-4e45-43ac-bf55-5bb6f84d0b18",
   "metadata": {},
   "source": [
    "# Prototyping a Single-Shot Scraper"
   ]
  },
  {
   "cell_type": "code",
   "execution_count": 3,
   "id": "9ea6d031-bb51-4f71-8b7a-f2c6ad9e9009",
   "metadata": {
    "tags": []
   },
   "outputs": [],
   "source": [
    "Response = requests.get(\"https://www.rba.gov.au/monetary-policy/rba-board-minutes/2023/\")"
   ]
  },
  {
   "cell_type": "code",
   "execution_count": 4,
   "id": "ef7ec2e5-e78b-4d66-8342-60108a4fbc6e",
   "metadata": {
    "tags": []
   },
   "outputs": [],
   "source": [
    "Soup = BeautifulSoup(Response.text,\"html.parser\")\n",
    "#Soup"
   ]
  },
  {
   "cell_type": "code",
   "execution_count": 5,
   "id": "7b193ce5-5c15-41e1-a80d-1e629baafeec",
   "metadata": {
    "tags": []
   },
   "outputs": [],
   "source": [
    "UL = Soup.find(\"ul\", {\"class\": \"list-articles\"})"
   ]
  },
  {
   "cell_type": "code",
   "execution_count": 6,
   "id": "50c2984d-7047-4235-82cd-1ae2b4ef1c07",
   "metadata": {
    "tags": []
   },
   "outputs": [],
   "source": [
    "As = UL.find_all(\"a\")\n",
    "#As"
   ]
  },
  {
   "cell_type": "code",
   "execution_count": 7,
   "id": "14700206-b1f0-4627-96d3-719a8e09f1a1",
   "metadata": {
    "tags": []
   },
   "outputs": [
    {
     "data": {
      "text/plain": [
       "[{'Link': '/monetary-policy/rba-board-minutes/2023/2023-09-05.html',\n",
       "  'Title': '5_September_2023'},\n",
       " {'Link': '/monetary-policy/rba-board-minutes/2023/2023-08-01.html',\n",
       "  'Title': '1_August_2023'},\n",
       " {'Link': '/monetary-policy/rba-board-minutes/2023/2023-07-04.html',\n",
       "  'Title': '4_July_2023'},\n",
       " {'Link': '/monetary-policy/rba-board-minutes/2023/2023-06-06.html',\n",
       "  'Title': '6_June_2023'},\n",
       " {'Link': '/monetary-policy/rba-board-minutes/2023/2023-05-02.html',\n",
       "  'Title': '2_May_2023'},\n",
       " {'Link': '/monetary-policy/rba-board-minutes/2023/2023-04-04.html',\n",
       "  'Title': '4_April_2023'},\n",
       " {'Link': '/monetary-policy/rba-board-minutes/2023/2023-03-07.html',\n",
       "  'Title': '7_March_2023'},\n",
       " {'Link': '/monetary-policy/rba-board-minutes/2023/2023-02-07.html',\n",
       "  'Title': '7_February_2023'}]"
      ]
     },
     "execution_count": 7,
     "metadata": {},
     "output_type": "execute_result"
    }
   ],
   "source": [
    "Links = [{\"Link\" : x[\"href\"], \"Title\" : x.text.replace(\" \", \"_\")} for x in As]\n",
    "Links"
   ]
  },
  {
   "cell_type": "code",
   "execution_count": 8,
   "id": "30e4efc5-40e1-445f-adfb-5f69df80aa7b",
   "metadata": {
    "tags": []
   },
   "outputs": [],
   "source": [
    "def ETL_Data(Links):\n",
    "    \n",
    "    for x in Links:\n",
    "        RBA_Base_Link = \"https://www.rba.gov.au/\"\n",
    "\n",
    "        #Getting Response for Given Link\n",
    "        Response = requests.get(RBA_Base_Link + x[\"Link\"])\n",
    "        Soup = BeautifulSoup(Response.text,\"html.parser\")\n",
    "\n",
    "        #Finding Content Div\n",
    "        Div = Soup.find(\"div\", {\"id\": \"content\"})\n",
    "\n",
    "        T = []\n",
    "        \n",
    "        for y in Div:\n",
    "            T.append(y.text)\n",
    "    \n",
    "        #Cleaning Text\n",
    "        Text = [text.replace(\"\\n\", \"\").replace(\"\\t\", \"\").replace(\"\\xa0\", \" \").replace(\",\", \", \").replace(\"  \", \" \") for text in T]\n",
    "        Text = [t for t in Text if t != \"\"] \n",
    "\n",
    "        #Dumping to Disk if not there Already\n",
    "        File_Path = paths.TRANSFORMED_DATA_DIR / f'{x[\"Title\"]}.txt'\n",
    "        \n",
    "        if not File_Path.exists():\n",
    "            with open (File_Path, \"w\") as f:\n",
    "                f.write('\\n'.join(Text))"
   ]
  },
  {
   "cell_type": "markdown",
   "id": "cac86955-da56-43a9-9a45-91c513f283e0",
   "metadata": {},
   "source": [
    "# Scraping Data From Start_Year to End_Year"
   ]
  },
  {
   "cell_type": "code",
   "execution_count": 9,
   "id": "1500ad96-0356-4f6a-9159-614511d971c6",
   "metadata": {
    "tags": []
   },
   "outputs": [],
   "source": [
    "Start_Year = 2019\n",
    "End_Year = 2023"
   ]
  },
  {
   "cell_type": "code",
   "execution_count": 10,
   "id": "3a82d141-9292-43ec-b848-2c770c9ad363",
   "metadata": {
    "tags": []
   },
   "outputs": [],
   "source": [
    "RBA_Base_Link = \"https://www.rba.gov.au/\"\n",
    "Monetary_Policy_Link = \"monetary-policy/rba-board-minutes/\""
   ]
  },
  {
   "cell_type": "code",
   "execution_count": 11,
   "id": "860bbf14-d07e-470b-aae4-a17bfd09eabf",
   "metadata": {
    "tags": []
   },
   "outputs": [],
   "source": [
    "#For Each Year in the Rande Start_Year-End_Year we are going to Get all the Links for the Policy Minutes and then we fetch Data for Each Link\n",
    "\n",
    "while Start_Year <= End_Year:\n",
    "    \n",
    "    Complete_Link = RBA_Base_Link + Monetary_Policy_Link + str(Start_Year) + \"/\"\n",
    "    \n",
    "    Response = requests.get(Complete_Link)\n",
    "    Soup = BeautifulSoup(Response.text,\"html.parser\")\n",
    "\n",
    "    UL = Soup.find(\"ul\", {\"class\": \"list-articles\"})\n",
    "    As = UL.find_all(\"a\")\n",
    "    Minutes_Links = [{\"Link\" : x[\"href\"], \"Title\" : x.text.replace(\" \", \"_\")} for x in As]\n",
    "\n",
    "    ETL_Data(Minutes_Links)\n",
    "    \n",
    "    Start_Year += 1"
   ]
  },
  {
   "cell_type": "code",
   "execution_count": null,
   "id": "93996baa-95a0-4000-9e79-ebd0b739df05",
   "metadata": {},
   "outputs": [],
   "source": []
  }
 ],
 "metadata": {
  "kernelspec": {
   "display_name": "CentralBanksLLMPoetryKernel",
   "language": "python",
   "name": "centralbanksllmpoetrykernel"
  },
  "language_info": {
   "codemirror_mode": {
    "name": "ipython",
    "version": 3
   },
   "file_extension": ".py",
   "mimetype": "text/x-python",
   "name": "python",
   "nbconvert_exporter": "python",
   "pygments_lexer": "ipython3",
   "version": "3.10.13"
  }
 },
 "nbformat": 4,
 "nbformat_minor": 5
}
