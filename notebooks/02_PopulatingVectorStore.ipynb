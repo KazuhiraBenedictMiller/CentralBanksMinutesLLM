{
 "cells": [
  {
   "cell_type": "markdown",
   "id": "ff612f36-feb8-4a55-9239-3b860ace77a3",
   "metadata": {},
   "source": [
    "# Importing Libraries"
   ]
  },
  {
   "cell_type": "code",
   "execution_count": 1,
   "id": "22cfa31d-cc05-4be3-a7d0-f97a0b3975d6",
   "metadata": {
    "tags": []
   },
   "outputs": [],
   "source": [
    "%load_ext autoreload\n",
    "%autoreload 2"
   ]
  },
  {
   "cell_type": "code",
   "execution_count": 2,
   "id": "cc692fb8-2fb2-47a0-91da-f2c8d7d15ee7",
   "metadata": {
    "tags": []
   },
   "outputs": [
    {
     "name": "stderr",
     "output_type": "stream",
     "text": [
      "/home/zero/.cache/pypoetry/virtualenvs/src-TO89gsno-py3.10/lib/python3.10/site-packages/pinecone/index.py:4: TqdmExperimentalWarning: Using `tqdm.autonotebook.tqdm` in notebook mode. Use `tqdm.tqdm` instead to force console mode (e.g. in jupyter console)\n",
      "  from tqdm.autonotebook import tqdm\n"
     ]
    }
   ],
   "source": [
    "import os\n",
    "import shutil\n",
    "import sys\n",
    "sys.path.append(\"../source/\")\n",
    "sys.path.append(\"../\")\n",
    "\n",
    "import paths\n",
    "import webscraper\n",
    "\n",
    "from dotenv import load_dotenv\n",
    "\n",
    "load_dotenv(\"../.env\")\n",
    "\n",
    "import pinecone\n",
    "from langchain.llms import Replicate\n",
    "from langchain.vectorstores import Pinecone\n",
    "from langchain.text_splitter import CharacterTextSplitter\n",
    "from langchain.document_loaders import PyPDFLoader\n",
    "from langchain.document_loaders import DirectoryLoader\n",
    "from langchain.embeddings import HuggingFaceEmbeddings\n",
    "from langchain.chains import ConversationalRetrievalChain\n",
    "\n",
    "REPLICATE_API_TOKEN = os.environ[\"REPLICATE_API_TOKEN\"]\n",
    "PINECONE_API_TOKEN = os.environ[\"PINECONE_API_TOKEN\"]\n",
    "\n",
    "pinecone.init(api_key = PINECONE_API_TOKEN, environment = \"gcp-starter\")"
   ]
  },
  {
   "cell_type": "markdown",
   "id": "a9915517-d14c-42b7-8ec9-f6bae3a2b852",
   "metadata": {},
   "source": [
    "# Populating the Transformed Data Directory with pdf files"
   ]
  },
  {
   "cell_type": "code",
   "execution_count": 8,
   "id": "5addd443-c29a-4453-b62f-2ad0298325e0",
   "metadata": {
    "tags": []
   },
   "outputs": [],
   "source": [
    "webscraper.ScrapeData(StartYear = 2023, EndYear = 2023)"
   ]
  },
  {
   "cell_type": "markdown",
   "id": "948689b7-e1f6-45cb-815d-f52acd382853",
   "metadata": {},
   "source": [
    "# Populating the Vector Database"
   ]
  },
  {
   "cell_type": "code",
   "execution_count": 21,
   "id": "34cd2fe6-61c3-4b3f-99fa-b94b0cc120a6",
   "metadata": {
    "tags": []
   },
   "outputs": [],
   "source": [
    "#Fetching all .pdf Files in the data/transformed/ Directory\n",
    "#Then for each one of them we Load, Split and Generate Embeddings\n",
    "#Ultimately we Push the Embeddings Generated to the Vector Database (aka VectorStore)\n",
    "\n",
    "for x in os.listdir(paths.TRANSFORMED_DATA_DIR):\n",
    "    if x.endswith(\".pdf\"):\n",
    "        FilePath = str(paths.TRANSFORMED_DATA_DIR / x)\n",
    "        Loader = PyPDFLoader(FilePath)\n",
    "        Document = Loader.load()\n",
    "        \n",
    "        TextSplitter = CharacterTextSplitter(chunk_size = 1000, chunk_overlap = 0)\n",
    "        Text = TextSplitter.split_documents(Document)\n",
    "        Embeddings = HuggingFaceEmbeddings() #(model_name = \"sentence-transformers/all-MiniLM-L6-v2\")\n",
    "        \n",
    "        #Loading Documents into the Vector Database\n",
    "\n",
    "        IndexName = \"centralbanksllm\"\n",
    "        Index = pinecone.Index(IndexName)\n",
    "        VectorDB = Pinecone.from_documents(Text, Embeddings, index_name = IndexName)\n",
    "        \n",
    "        #After Loading the Documents' Embeddings to the Vector Store, the File is Moved to a Storage Directory\n",
    "        \n",
    "        shutil.move(FilePath, str(paths.STORAGE_DATA_DIR / x))"
   ]
  }
 ],
 "metadata": {
  "kernelspec": {
   "display_name": "CentralBanksLLMPoetryKernel",
   "language": "python",
   "name": "centralbanksllmpoetrykernel"
  },
  "language_info": {
   "codemirror_mode": {
    "name": "ipython",
    "version": 3
   },
   "file_extension": ".py",
   "mimetype": "text/x-python",
   "name": "python",
   "nbconvert_exporter": "python",
   "pygments_lexer": "ipython3",
   "version": "3.10.13"
  }
 },
 "nbformat": 4,
 "nbformat_minor": 5
}
